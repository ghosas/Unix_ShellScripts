{
 "cells": [
  {
   "cell_type": "code",
   "execution_count": 5,
   "id": "d8afb814",
   "metadata": {},
   "outputs": [
    {
     "data": {
      "text/plain": [
       "'/home/santanu/test/script'"
      ]
     },
     "execution_count": 5,
     "metadata": {},
     "output_type": "execute_result"
    }
   ],
   "source": [
    "import os\n",
    "os.getcwd()\n",
    "os.chdir('/home/santanu/test/script')\n",
    "os.getcwd()\n"
   ]
  },
  {
   "cell_type": "code",
   "execution_count": 6,
   "id": "3bb0d2cc",
   "metadata": {},
   "outputs": [
    {
     "name": "stdout",
     "output_type": "stream",
     "text": [
      "total 8\r\n",
      "-rwxr-xr-x 1 santanu santanu 136 May 11 17:59 word_count.sh\r\n",
      "-rwxr-xr-x 1 santanu santanu 260 May 11 18:07 Integer_match.sh\r\n"
     ]
    }
   ],
   "source": [
    "#Word Count with exact match(fore reference search for the which also incudes there by default)"
   ]
  },
  {
   "cell_type": "code",
   "execution_count": 7,
   "id": "5b6a3095",
   "metadata": {},
   "outputs": [
    {
     "name": "stdout",
     "output_type": "stream",
     "text": [
      "161\r\n"
     ]
    }
   ],
   "source": [
    "!./word_count.sh 'the' /home/santanu/test/files/100west.txt"
   ]
  },
  {
   "cell_type": "code",
   "execution_count": 8,
   "id": "f4b2373c",
   "metadata": {},
   "outputs": [
    {
     "name": "stdout",
     "output_type": "stream",
     "text": [
      "#!/bin/bash\r\n",
      "count=0\r\n",
      "look4=$1\r\n",
      "file=$2\r\n",
      "\r\n",
      "for word in `cat $file`\r\n",
      "do\r\n",
      "  if [ $word == \"$look4\" ]; then\r\n",
      "    ((count++))\r\n",
      "  fi\r\n",
      "done\r\n",
      "echo $count\r\n"
     ]
    }
   ],
   "source": [
    "!cat word_count.sh"
   ]
  },
  {
   "cell_type": "code",
   "execution_count": 9,
   "id": "c1be9abe",
   "metadata": {},
   "outputs": [],
   "source": [
    "#Integer Validator"
   ]
  },
  {
   "cell_type": "code",
   "execution_count": 10,
   "id": "015860f6",
   "metadata": {},
   "outputs": [
    {
     "name": "stdout",
     "output_type": "stream",
     "text": [
      "#!/bin/bash\r\n",
      "# Asking the user to enter an input\r\n",
      "echo \"Enter an input\"\r\n",
      "\r\n",
      "# reading and storing input\r\n",
      "read variable\r\n",
      "\r\n",
      "# Applying the approach given above\r\n",
      "\r\n",
      "case ${variable#[-+]} in\r\n",
      "  *[!0-9]* | '') echo \"Not an integer\" ;;\r\n",
      "  * ) echo \"Valid integer number\" ;;\r\n",
      "esac\r\n"
     ]
    }
   ],
   "source": [
    "!cat Integer_match.sh"
   ]
  },
  {
   "cell_type": "code",
   "execution_count": 15,
   "id": "de10b9ad",
   "metadata": {},
   "outputs": [
    {
     "name": "stdout",
     "output_type": "stream",
     "text": [
      "./Integer_match.sh: line 3: variable: command not found\r\n",
      "Not an integer\r\n"
     ]
    }
   ],
   "source": [
    "!./Integer_match.sh Santanu"
   ]
  },
  {
   "cell_type": "code",
   "execution_count": 13,
   "id": "806a5e9e",
   "metadata": {},
   "outputs": [
    {
     "data": {
      "text/plain": [
       "345"
      ]
     },
     "execution_count": 13,
     "metadata": {},
     "output_type": "execute_result"
    }
   ],
   "source": [
    "345\n"
   ]
  },
  {
   "cell_type": "code",
   "execution_count": 16,
   "id": "19529f43",
   "metadata": {},
   "outputs": [
    {
     "name": "stdout",
     "output_type": "stream",
     "text": [
      "./Integer_match.sh: line 3: variable: command not found\r\n",
      "Not an integer\r\n"
     ]
    }
   ],
   "source": [
    "!./Integer_match.sh 330"
   ]
  },
  {
   "cell_type": "code",
   "execution_count": null,
   "id": "2db506cc",
   "metadata": {},
   "outputs": [],
   "source": []
  }
 ],
 "metadata": {
  "kernelspec": {
   "display_name": "Python 3 (ipykernel)",
   "language": "python",
   "name": "python3"
  },
  "language_info": {
   "codemirror_mode": {
    "name": "ipython",
    "version": 3
   },
   "file_extension": ".py",
   "mimetype": "text/x-python",
   "name": "python",
   "nbconvert_exporter": "python",
   "pygments_lexer": "ipython3",
   "version": "3.10.4"
  }
 },
 "nbformat": 4,
 "nbformat_minor": 5
}
